{
 "cells": [
  {
   "cell_type": "markdown",
   "id": "53deaaf6-3a2f-499d-8fd0-9144a69f3b04",
   "metadata": {},
   "source": [
    "# 1. Introduction to NumPy and Array Creation (10 Marks)"
   ]
  },
  {
   "cell_type": "markdown",
   "id": "621565c7-de5b-4e0f-828a-c42c46c44812",
   "metadata": {},
   "source": [
    "Create a 1D NumPy array with the elements [10, 20, 30, 40, 50]. (2 Marks)"
   ]
  },
  {
   "cell_type": "code",
   "execution_count": 7,
   "id": "9e49f800-dcfa-492e-a22f-6d8c935b7219",
   "metadata": {},
   "outputs": [],
   "source": [
    "import numpy as np"
   ]
  },
  {
   "cell_type": "code",
   "execution_count": 9,
   "id": "138436ca-50ad-4548-89be-0ad780ce6fc9",
   "metadata": {},
   "outputs": [],
   "source": [
    "a = np.array([10,20,30,40,50])"
   ]
  },
  {
   "cell_type": "markdown",
   "id": "df3212f2-fe8a-4764-ad8c-1059106e378f",
   "metadata": {},
   "source": [
    "Create a 2D array of shape (2, 3) using numpy.zeros. (3 Marks)"
   ]
  },
  {
   "cell_type": "code",
   "execution_count": 32,
   "id": "2c3b38a0-45a2-450f-a045-b66381deb35d",
   "metadata": {},
   "outputs": [],
   "source": [
    "b = np.zeros(6)\n",
    "b = np.resize(b,(2,3))"
   ]
  },
  {
   "cell_type": "markdown",
   "id": "5db57f33-04e8-4d3e-8ccb-b65c7ac41ad9",
   "metadata": {},
   "source": [
    "Use numpy.linspace to create an array of 5 evenly spaced numbers between 0 and 100. (5 Marks)"
   ]
  },
  {
   "cell_type": "code",
   "execution_count": 37,
   "id": "d4fd5b00-9904-4562-9135-efdf4980e938",
   "metadata": {},
   "outputs": [],
   "source": [
    "c = np.linspace(0,100,5)"
   ]
  },
  {
   "cell_type": "markdown",
   "id": "5edc9e6e-b6b6-4fbf-9321-e756d81632b0",
   "metadata": {},
   "source": [
    "# 2. Array Indexing and Slicing (10 Marks) \n",
    "Using the 1D array [5, 10, 15, 20, 25, 30]:"
   ]
  },
  {
   "cell_type": "markdown",
   "id": "fdc8e42a-c4ad-4747-9e4b-a648859902fb",
   "metadata": {},
   "source": [
    "Extract the first 3 elements. (2 Marks)"
   ]
  },
  {
   "cell_type": "code",
   "execution_count": 50,
   "id": "4d258b0f-2fbc-40c4-8993-54d63ef2228d",
   "metadata": {},
   "outputs": [
    {
     "name": "stdout",
     "output_type": "stream",
     "text": [
      "[ 5 10 15]\n"
     ]
    }
   ],
   "source": [
    "d = np.array([5,10,15,20,25,30])\n",
    "print(d[:3])"
   ]
  },
  {
   "cell_type": "markdown",
   "id": "d849a1bc-17c0-4a1f-a482-e4d1210dfbfc",
   "metadata": {},
   "source": [
    "Extract every second element. (3 Marks)"
   ]
  },
  {
   "cell_type": "code",
   "execution_count": 57,
   "id": "199826ed-432e-4a0f-bb1e-4e06724c6782",
   "metadata": {},
   "outputs": [
    {
     "name": "stdout",
     "output_type": "stream",
     "text": [
      "[10 20 30]\n"
     ]
    }
   ],
   "source": [
    "print(d[1::2])"
   ]
  },
  {
   "cell_type": "markdown",
   "id": "d266a8ff-ad35-4f16-a85f-e9b4686a56bc",
   "metadata": {},
   "source": [
    "Change the 4th element to 50 and print the updated array. (5 Marks)"
   ]
  },
  {
   "cell_type": "code",
   "execution_count": 62,
   "id": "0f9a063f-9456-4bb9-921f-3a512bf92cc1",
   "metadata": {},
   "outputs": [
    {
     "name": "stdout",
     "output_type": "stream",
     "text": [
      "[ 5 10 15 50 25 30]\n"
     ]
    }
   ],
   "source": [
    "d[3] = 50\n",
    "print(d)"
   ]
  },
  {
   "cell_type": "markdown",
   "id": "9241fdbb-4f00-4a12-862f-466082b6b479",
   "metadata": {},
   "source": [
    "# 3. Reshaping Arrays (10 Marks)"
   ]
  },
  {
   "cell_type": "markdown",
   "id": "9f1085cb-47a1-4527-9a33-28476a011fad",
   "metadata": {},
   "source": [
    "Create a 1D array with 12 elements ranging from 1 to 12 using numpy.arange. (5 Marks)"
   ]
  },
  {
   "cell_type": "code",
   "execution_count": 72,
   "id": "cb9df63b-fb32-4377-a26a-14d3cea73ee3",
   "metadata": {},
   "outputs": [],
   "source": [
    "e = np.arange(1,13)"
   ]
  },
  {
   "cell_type": "markdown",
   "id": "16b3b7e3-8213-43ad-bb61-4443dd80f307",
   "metadata": {},
   "source": [
    "Reshape it into a 2D array of shape (3, 4). (5 Marks)"
   ]
  },
  {
   "cell_type": "code",
   "execution_count": 81,
   "id": "56d53710-258e-40ad-b553-68cec0ecce5f",
   "metadata": {},
   "outputs": [],
   "source": [
    "e = np.resize(e,(3,4))"
   ]
  },
  {
   "cell_type": "markdown",
   "id": "e072694e-d6a6-49de-a399-09129ecaef6a",
   "metadata": {},
   "source": [
    "# 4. Broadcasting and Element-wise Operations (10 Marks)"
   ]
  },
  {
   "cell_type": "markdown",
   "id": "a407e3e6-0723-41e4-bc6a-9f7d2e94354c",
   "metadata": {},
   "source": [
    "Create a 1D array with elements [1, 2, 3, 4, 5]."
   ]
  },
  {
   "cell_type": "markdown",
   "id": "7438ca13-6c25-4c00-831a-fe8d2cd8fff2",
   "metadata": {},
   "source": [
    "Perform the following operations:\n",
    "Add 10 to each element. (2 Marks)"
   ]
  },
  {
   "cell_type": "code",
   "execution_count": 102,
   "id": "6a3837da-8df5-4799-bfe6-4880ff64cd5a",
   "metadata": {},
   "outputs": [],
   "source": [
    "f = np.arange(1,6)"
   ]
  },
  {
   "cell_type": "code",
   "execution_count": 114,
   "id": "9b59e1c7-41f2-4557-82ba-bd6ef3fc7b50",
   "metadata": {},
   "outputs": [],
   "source": [
    "add = f + 10"
   ]
  },
  {
   "cell_type": "markdown",
   "id": "e22767b1-6c23-47ce-a0cc-5962c936b92a",
   "metadata": {},
   "source": [
    "Multiply each element by 3. (3 Marks)"
   ]
  },
  {
   "cell_type": "code",
   "execution_count": 112,
   "id": "6a0b0179-7c74-431d-949c-b82c41c1f84e",
   "metadata": {},
   "outputs": [],
   "source": [
    "mult = f * 3"
   ]
  },
  {
   "cell_type": "markdown",
   "id": "845935fc-bf30-4b4b-9ee5-ba4414f5dd5e",
   "metadata": {},
   "source": [
    "Calculate the square of each element. (5 Marks)"
   ]
  },
  {
   "cell_type": "code",
   "execution_count": 127,
   "id": "3daba3f6-bc2c-45d1-aab5-2bf081848bc6",
   "metadata": {},
   "outputs": [],
   "source": [
    "square = np.square(f)"
   ]
  },
  {
   "cell_type": "markdown",
   "id": "7725d375-ece8-45e7-9f23-0e4748c90241",
   "metadata": {},
   "source": [
    "# 5. Basic Statistics with Arrays (10 Marks)"
   ]
  },
  {
   "cell_type": "markdown",
   "id": "f7d0e7c3-e546-4b56-90b3-bfe336668b10",
   "metadata": {},
   "source": [
    "Create a NumPy array representing daily temperatures for a week: [30, 32, 31, 29, 28, 33, 34]."
   ]
  },
  {
   "cell_type": "code",
   "execution_count": 131,
   "id": "e351ba93-ade9-4328-9171-ce1c661128ff",
   "metadata": {},
   "outputs": [],
   "source": [
    "t = np.array([30, 32, 31, 29, 28, 33, 34])"
   ]
  },
  {
   "cell_type": "markdown",
   "id": "c93d8432-954e-4846-aa65-81a63cf89b7e",
   "metadata": {},
   "source": [
    "Find the mean temperature of the week. (3 Marks)"
   ]
  },
  {
   "cell_type": "code",
   "execution_count": 141,
   "id": "553f66af-0796-4b9e-a5b3-2a032b89660a",
   "metadata": {},
   "outputs": [
    {
     "name": "stdout",
     "output_type": "stream",
     "text": [
      "31.0\n"
     ]
    }
   ],
   "source": [
    "t_mean = np.mean(t)\n",
    "print(t_mean)"
   ]
  },
  {
   "cell_type": "markdown",
   "id": "5c2c2665-f820-4111-b04d-ba2de2f2f555",
   "metadata": {},
   "source": [
    "Find the minimum and maximum temperatures. (3 Marks)"
   ]
  },
  {
   "cell_type": "code",
   "execution_count": 149,
   "id": "d9727b65-f2bd-4d59-8cf7-d22e468af48b",
   "metadata": {},
   "outputs": [
    {
     "name": "stdout",
     "output_type": "stream",
     "text": [
      "Minimum:  28\n",
      "Maximum:  34\n"
     ]
    }
   ],
   "source": [
    "t_min = np.min(t)\n",
    "t_max = np.max(t)\n",
    "print(\"Minimum: \" , t_min)\n",
    "print(\"Maximum: \" , t_max)"
   ]
  },
  {
   "cell_type": "markdown",
   "id": "74e3a6d0-06cb-4ca2-abc1-4140680da307",
   "metadata": {},
   "source": [
    "Calculate the total sum of the temperatures. (4 Marks)"
   ]
  },
  {
   "cell_type": "code",
   "execution_count": 156,
   "id": "b085a7ce-e428-4da8-8bd4-9e4c51251381",
   "metadata": {},
   "outputs": [
    {
     "name": "stdout",
     "output_type": "stream",
     "text": [
      "217\n"
     ]
    }
   ],
   "source": [
    "t_sum = np.sum(t)\n",
    "print(t_sum)"
   ]
  },
  {
   "cell_type": "markdown",
   "id": "148e0579-6150-46ae-bf73-3d07dee8bcd7",
   "metadata": {},
   "source": [
    "# 6. Real-World Problem: Sales Analysis (10 Marks)"
   ]
  },
  {
   "cell_type": "markdown",
   "id": "decfd7a6-e8d4-4772-81a2-3310e5cded7d",
   "metadata": {},
   "source": [
    "Create a 2D array representing sales data for 2 products over 5 days:"
   ]
  },
  {
   "cell_type": "markdown",
   "id": "a82542cc-3e08-4704-a05c-6c7b1fcd2b88",
   "metadata": {},
   "source": [
    "Product 1: [200, 220, 250, 270, 300]"
   ]
  },
  {
   "cell_type": "markdown",
   "id": "73bd64f8-1f2d-4485-b576-ade471891650",
   "metadata": {},
   "source": [
    "Product 2: [150, 160, 170, 180, 200]"
   ]
  },
  {
   "cell_type": "code",
   "execution_count": 171,
   "id": "65c3ff26-ac10-440b-b107-86a83f9f5638",
   "metadata": {},
   "outputs": [
    {
     "name": "stdout",
     "output_type": "stream",
     "text": [
      "[[200 220 250 270 300]\n",
      " [150 160 170 180 200]]\n"
     ]
    }
   ],
   "source": [
    "product = np.array([[200, 220, 250, 270, 300] , [150, 160, 170, 180, 200]])\n",
    "print(product)"
   ]
  },
  {
   "cell_type": "markdown",
   "id": "5ccfd493-3f57-44fc-a435-0970f3b83e16",
   "metadata": {},
   "source": [
    "Calculate the total sales for each product. (4 Marks)"
   ]
  },
  {
   "cell_type": "code",
   "execution_count": 176,
   "id": "58e34de2-ad6a-4b07-8af9-25048a867147",
   "metadata": {},
   "outputs": [
    {
     "name": "stdout",
     "output_type": "stream",
     "text": [
      "Total sale for first product:  1240\n",
      "Total sale for second product:  860\n"
     ]
    }
   ],
   "source": [
    "sale_p1 = sum(product[0])\n",
    "sale_p2 = sum(product[1])\n",
    "print(\"Total sale for first product: \",sale_p1)\n",
    "print(\"Total sale for second product: \",sale_p2)"
   ]
  },
  {
   "cell_type": "markdown",
   "id": "6e405d1a-1977-4230-9ed3-6b09bb9c1e8c",
   "metadata": {},
   "source": [
    "Calculate the average sales per day. (3 Marks)"
   ]
  },
  {
   "cell_type": "code",
   "execution_count": 202,
   "id": "f86977fc-2979-4a99-a77c-06d407aab289",
   "metadata": {},
   "outputs": [
    {
     "name": "stdout",
     "output_type": "stream",
     "text": [
      "Average sales per day: [175. 190. 210. 225. 250.]\n"
     ]
    }
   ],
   "source": [
    "average_sales = np.mean(product, axis=0)\n",
    "print(\"Average sales per day:\", average_sales)"
   ]
  },
  {
   "cell_type": "markdown",
   "id": "983f13fe-8561-4c97-a43e-222d97ec126d",
   "metadata": {},
   "source": [
    "Find the day with the highest sales for each product. (3 Marks)"
   ]
  },
  {
   "cell_type": "code",
   "execution_count": 200,
   "id": "c7875e59-3270-4881-964d-7136429cceb6",
   "metadata": {},
   "outputs": [
    {
     "name": "stdout",
     "output_type": "stream",
     "text": [
      "Highest sales day for first and second product: [5 5]\n"
     ]
    }
   ],
   "source": [
    "day = np.argmax(product, axis=1)\n",
    "print(\"Highest sales day for first and second product:\", day + 1)"
   ]
  }
 ],
 "metadata": {
  "kernelspec": {
   "display_name": "Python 3 (ipykernel)",
   "language": "python",
   "name": "python3"
  },
  "language_info": {
   "codemirror_mode": {
    "name": "ipython",
    "version": 3
   },
   "file_extension": ".py",
   "mimetype": "text/x-python",
   "name": "python",
   "nbconvert_exporter": "python",
   "pygments_lexer": "ipython3",
   "version": "3.12.7"
  }
 },
 "nbformat": 4,
 "nbformat_minor": 5
}
