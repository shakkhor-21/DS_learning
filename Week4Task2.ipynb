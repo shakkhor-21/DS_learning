{
 "cells": [
  {
   "cell_type": "markdown",
   "id": "9ab18c03-c476-4b84-9946-7ed2ad7940b1",
   "metadata": {},
   "source": [
    "# 1. Creating DataFrames (10 Marks)"
   ]
  },
  {
   "cell_type": "markdown",
   "id": "4f5b7477-7c5e-408a-9451-d4d2c5cb7eea",
   "metadata": {},
   "source": [
    "Create a Pandas DataFrame with the following data:"
   ]
  },
  {
   "cell_type": "code",
   "execution_count": 3,
   "id": "2f7b9907-bbd3-4208-9100-3444416a807d",
   "metadata": {},
   "outputs": [
    {
     "name": "stdout",
     "output_type": "stream",
     "text": [
      "      Name  Age  Gender  Score\n",
      "0    Alice   23  Female     85\n",
      "1      Bob   25    Male     78\n",
      "2  Charlie   22    Male     90\n",
      "3    Diana   24  Female     92\n"
     ]
    }
   ],
   "source": [
    "import pandas as pd\n",
    "df=pd.DataFrame({'Name' : ['Alice' , 'Bob' , 'Charlie' , 'Diana'] , 'Age' : [23,25,22,24] , 'Gender' : ['Female' , 'Male' , 'Male', 'Female'] , 'Score' : [85,78,90,92]})\n",
    "print(df)"
   ]
  },
  {
   "cell_type": "markdown",
   "id": "fef59dad-c952-4ac8-816b-b0e38abd1934",
   "metadata": {},
   "source": [
    "1. Display the first 3 rows of the DataFrame. (2 Marks)"
   ]
  },
  {
   "cell_type": "code",
   "execution_count": 5,
   "id": "5e530e75-3128-4d45-a837-220d92fcf4e0",
   "metadata": {},
   "outputs": [
    {
     "name": "stdout",
     "output_type": "stream",
     "text": [
      "Name      object\n",
      "Age        int64\n",
      "Gender    object\n",
      "Score      int64\n",
      "dtype: object\n"
     ]
    }
   ],
   "source": [
    "print(df.dtypes)"
   ]
  },
  {
   "cell_type": "markdown",
   "id": "87a7edc2-3727-45a1-b013-e263d0368b83",
   "metadata": {},
   "source": [
    "2. Get the column names and data types. (2 Marks)"
   ]
  },
  {
   "cell_type": "code",
   "execution_count": 7,
   "id": "4917a7d0-c099-4bef-bded-872fdc1beb67",
   "metadata": {},
   "outputs": [
    {
     "name": "stdout",
     "output_type": "stream",
     "text": [
      "      Name  Age  Gender  Score\n",
      "0    Alice   23  Female     85\n",
      "1      Bob   25    Male     78\n",
      "2  Charlie   22    Male     90\n"
     ]
    }
   ],
   "source": [
    "print(df.head(3))"
   ]
  },
  {
   "cell_type": "markdown",
   "id": "52ee5d97-66b2-4b15-8444-2db2d7d462fc",
   "metadata": {},
   "source": [
    "3. Add a new column named Passed with a value of True if the Score is greater than 80, otherwise False. (3 Marks)"
   ]
  },
  {
   "cell_type": "code",
   "execution_count": 9,
   "id": "e48f5df9-261f-4ec8-a2c7-3056c9b822fc",
   "metadata": {},
   "outputs": [
    {
     "name": "stdout",
     "output_type": "stream",
     "text": [
      "      Name  Age  Gender  Score  Passed\n",
      "0    Alice   23  Female     85    True\n",
      "1      Bob   25    Male     78   False\n",
      "2  Charlie   22    Male     90    True\n",
      "3    Diana   24  Female     92    True\n"
     ]
    }
   ],
   "source": [
    "df['Passed'] = df['Score'].apply(lambda p: True if p>80 else False)\n",
    "print(df)"
   ]
  },
  {
   "cell_type": "code",
   "execution_count": 10,
   "id": "e00c07bb-094b-4027-a031-25ee0e0a297e",
   "metadata": {},
   "outputs": [],
   "source": [
    "df = df.drop('Gender' , axis = 1)"
   ]
  },
  {
   "cell_type": "code",
   "execution_count": 11,
   "id": "57921f9d-36b4-4300-8562-21e825d83768",
   "metadata": {},
   "outputs": [
    {
     "name": "stdout",
     "output_type": "stream",
     "text": [
      "      Name  Age  Score  Passed\n",
      "0    Alice   23     85    True\n",
      "1      Bob   25     78   False\n",
      "2  Charlie   22     90    True\n",
      "3    Diana   24     92    True\n"
     ]
    }
   ],
   "source": [
    "print(df)\n",
    "#Gender dropped cant put it into previous cell because once gender is removed it generates error while again dropping it"
   ]
  },
  {
   "cell_type": "markdown",
   "id": "9e3ea197-5d62-4181-991e-4b3755c5ac3a",
   "metadata": {},
   "source": [
    "# 2. Indexing and Slicing (10 Marks)"
   ]
  },
  {
   "cell_type": "markdown",
   "id": "119aa9d3-f4f9-4b9b-89ff-51d64b484dce",
   "metadata": {},
   "source": [
    "1. Select and display only the Name and Score columns. (2 Marks)"
   ]
  },
  {
   "cell_type": "code",
   "execution_count": 25,
   "id": "c4561103-4172-48ef-bf45-e7f41c04b56f",
   "metadata": {},
   "outputs": [
    {
     "name": "stdout",
     "output_type": "stream",
     "text": [
      "      Name  Score\n",
      "0    Alice     85\n",
      "1      Bob     78\n",
      "2  Charlie     90\n",
      "3    Diana     92\n"
     ]
    }
   ],
   "source": [
    "print(df[['Name' , 'Score']])"
   ]
  },
  {
   "cell_type": "markdown",
   "id": "4142fda8-ed6b-41bb-854c-4f2fe13e9a89",
   "metadata": {},
   "source": [
    "2. Filter and display rows where Score is greater than 85. (3 Marks)"
   ]
  },
  {
   "cell_type": "code",
   "execution_count": 41,
   "id": "4242353c-3103-420b-9ca8-bb5c1f14dfc6",
   "metadata": {},
   "outputs": [
    {
     "name": "stdout",
     "output_type": "stream",
     "text": [
      "      Name  Age  Score  Passed\n",
      "2  Charlie   22     90    True\n",
      "3    Diana   24     92    True\n"
     ]
    }
   ],
   "source": [
    "print(df.loc[df.Score > 85])"
   ]
  },
  {
   "cell_type": "markdown",
   "id": "2d0aa064-4741-42b3-bdc4-e35b7e299eb4",
   "metadata": {},
   "source": [
    "3. Display the row for the student named \"Bob\" using loc. (2 Marks)"
   ]
  },
  {
   "cell_type": "code",
   "execution_count": 44,
   "id": "7c34be13-103f-4c90-9c1c-c6a9dd9c16ca",
   "metadata": {},
   "outputs": [
    {
     "name": "stdout",
     "output_type": "stream",
     "text": [
      "  Name  Age  Score  Passed\n",
      "1  Bob   25     78   False\n"
     ]
    }
   ],
   "source": [
    "print(df.loc[df.Name == 'Bob'])"
   ]
  },
  {
   "cell_type": "markdown",
   "id": "2540ce15-9660-4feb-8ae3-eead048fc5bc",
   "metadata": {},
   "source": [
    "4. Display the last 2 rows of the DataFrame. (3 Marks)"
   ]
  },
  {
   "cell_type": "code",
   "execution_count": 55,
   "id": "2e7afe90-dfa6-4800-8e03-cd23c79a8885",
   "metadata": {},
   "outputs": [
    {
     "name": "stdout",
     "output_type": "stream",
     "text": [
      "      Name  Age  Score  Passed\n",
      "2  Charlie   22     90    True\n",
      "3    Diana   24     92    True\n"
     ]
    }
   ],
   "source": [
    "print(df.iloc[-2:])"
   ]
  },
  {
   "cell_type": "markdown",
   "id": "b7b47566-038b-4175-9279-d76ca18b9404",
   "metadata": {},
   "source": [
    "# 3. Data Analysis (15 Marks)"
   ]
  },
  {
   "cell_type": "markdown",
   "id": "24f28376-3eef-40f6-ace3-ddcd8f8c631a",
   "metadata": {},
   "source": [
    "1. Calculate the average age of students. (2 Marks)"
   ]
  },
  {
   "cell_type": "code",
   "execution_count": 59,
   "id": "f22f464f-7580-4c03-932a-93012e2ee7ce",
   "metadata": {},
   "outputs": [
    {
     "name": "stdout",
     "output_type": "stream",
     "text": [
      "23.5\n"
     ]
    }
   ],
   "source": [
    "print(df['Age'].mean())"
   ]
  },
  {
   "cell_type": "markdown",
   "id": "ba3c9a39-9b3e-4301-92c8-e03a7c691243",
   "metadata": {},
   "source": [
    "2. Find the maximum and minimum scores. (2 Marks)"
   ]
  },
  {
   "cell_type": "code",
   "execution_count": 62,
   "id": "4e29b8da-7ca0-46da-b9f5-1abb2119294d",
   "metadata": {},
   "outputs": [
    {
     "name": "stdout",
     "output_type": "stream",
     "text": [
      "92 78\n"
     ]
    }
   ],
   "source": [
    "print(df['Score'].max() , df['Score'].min())"
   ]
  },
  {
   "cell_type": "markdown",
   "id": "725e701a-36d2-4fb0-937d-516cd389a0ab",
   "metadata": {},
   "source": [
    "3. Count the number of students who passed. (3 Marks)"
   ]
  },
  {
   "cell_type": "code",
   "execution_count": 83,
   "id": "fc09ae70-2de2-4039-848f-4ca20e347519",
   "metadata": {},
   "outputs": [
    {
     "name": "stdout",
     "output_type": "stream",
     "text": [
      "3\n"
     ]
    }
   ],
   "source": [
    "print(df['Passed'].value_counts()[True])"
   ]
  },
  {
   "cell_type": "markdown",
   "id": "b6630d41-8d95-43b2-aaaf-f848f9573213",
   "metadata": {},
   "source": [
    "4. Group the data by the Passed column and calculate the average score for each group. (4 Marks)"
   ]
  },
  {
   "cell_type": "code",
   "execution_count": 88,
   "id": "6a2c3cdf-34b3-435b-b99d-85e875b22694",
   "metadata": {},
   "outputs": [
    {
     "name": "stdout",
     "output_type": "stream",
     "text": [
      "Passed\n",
      "False    78.0\n",
      "True     89.0\n",
      "Name: Score, dtype: float64\n"
     ]
    }
   ],
   "source": [
    "print(df.groupby('Passed').Score.mean())"
   ]
  },
  {
   "cell_type": "markdown",
   "id": "935b518e-5bba-4505-be3b-f2cad9f140a3",
   "metadata": {},
   "source": [
    "5. Sort the DataFrame by Score in descending order. (4 Marks)"
   ]
  },
  {
   "cell_type": "code",
   "execution_count": 97,
   "id": "40e9b591-3261-42d2-9776-db973ebb71d2",
   "metadata": {},
   "outputs": [
    {
     "name": "stdout",
     "output_type": "stream",
     "text": [
      "      Name  Age  Score  Passed\n",
      "3    Diana   24     92    True\n",
      "2  Charlie   22     90    True\n",
      "0    Alice   23     85    True\n",
      "1      Bob   25     78   False\n"
     ]
    }
   ],
   "source": [
    "print(df.sort_values(by = 'Score' , ascending = False))"
   ]
  },
  {
   "cell_type": "markdown",
   "id": "9ce7a55e-8cde-46b1-9d61-74a8640d016f",
   "metadata": {},
   "source": [
    "# 4. Importing and Exporting Data (5 Marks)"
   ]
  },
  {
   "cell_type": "markdown",
   "id": "1d60ede6-8a73-4e2b-8b93-8fef20512da1",
   "metadata": {},
   "source": [
    "1. Save the DataFrame from Task 1 as a CSV file named students.csv. (2 Marks)"
   ]
  },
  {
   "cell_type": "code",
   "execution_count": 105,
   "id": "eee95e66-c607-4211-95d2-26c97caa6249",
   "metadata": {},
   "outputs": [],
   "source": [
    "df.to_csv(\"students.csv\")"
   ]
  },
  {
   "cell_type": "markdown",
   "id": "87e0b777-3cc7-4b13-897e-81fa126c85b9",
   "metadata": {},
   "source": [
    "2. Read the students.csv file back into a new DataFrame and display it. (3 Marks)"
   ]
  },
  {
   "cell_type": "code",
   "execution_count": 110,
   "id": "e5d7989e-fa52-46e1-9a1d-a58c7a57f888",
   "metadata": {},
   "outputs": [
    {
     "name": "stdout",
     "output_type": "stream",
     "text": [
      "   Unnamed: 0     Name  Age  Score  Passed\n",
      "0           0    Alice   23     85    True\n",
      "1           1      Bob   25     78   False\n",
      "2           2  Charlie   22     90    True\n",
      "3           3    Diana   24     92    True\n"
     ]
    }
   ],
   "source": [
    "df2 = pd.read_csv(\"students.csv\")\n",
    "print(df2)"
   ]
  },
  {
   "cell_type": "markdown",
   "id": "35858077-a780-4684-a82a-e9e31a1ef206",
   "metadata": {},
   "source": [
    "# 5. Real-World Problem (10 Marks)"
   ]
  },
  {
   "cell_type": "markdown",
   "id": "dc654a7a-79a2-4783-9612-0400f3b26a45",
   "metadata": {},
   "source": [
    "Create a DataFrame with the following sales data:"
   ]
  },
  {
   "cell_type": "code",
   "execution_count": 116,
   "id": "5f00384a-2f33-4a66-88f0-79509739c82a",
   "metadata": {},
   "outputs": [
    {
     "name": "stdout",
     "output_type": "stream",
     "text": [
      "      Product     Category  Sales  Discount\n",
      "0      Laptop  Electronics    500        50\n",
      "1  Smartphone  Electronics    300        30\n",
      "2        Desk    Furniture    200        20\n",
      "3       Chair    Furniture    150        15\n"
     ]
    }
   ],
   "source": [
    "company = pd.DataFrame({'Product' : [\"Laptop\" , \"Smartphone\" , \"Desk\" , \"Chair\"] , 'Category' : [\"Electronics\" , \"Electronics\", \"Furniture\" , \"Furniture\" ] , \"Sales\" : [500,300,200,150] , \"Discount\" : [50,30,20,15]})\n",
    "print(company)"
   ]
  },
  {
   "cell_type": "markdown",
   "id": "b6001edd-c5dc-43cd-92d6-ad951316d878",
   "metadata": {},
   "source": [
    "1. Calculate a new column named Net Sales as Sales - Discount. (3 Marks)"
   ]
  },
  {
   "cell_type": "code",
   "execution_count": 131,
   "id": "15ab483e-6de9-4f98-aa64-f33111b35eae",
   "metadata": {},
   "outputs": [
    {
     "name": "stdout",
     "output_type": "stream",
     "text": [
      "      Product     Category  Sales  Discount  Net Sales\n",
      "0      Laptop  Electronics    500        50        450\n",
      "1  Smartphone  Electronics    300        30        270\n",
      "2        Desk    Furniture    200        20        180\n",
      "3       Chair    Furniture    150        15        135\n"
     ]
    }
   ],
   "source": [
    "company[\"Net Sales\"] = company[\"Sales\"] - company[\"Discount\"]\n",
    "print(company)"
   ]
  },
  {
   "cell_type": "code",
   "execution_count": 135,
   "id": "53cbbca1-f795-4eb0-b9ef-d843fc637fc4",
   "metadata": {},
   "outputs": [
    {
     "data": {
      "text/plain": [
       "Category\n",
       "Electronics    800\n",
       "Furniture      350\n",
       "Name: Sales, dtype: int64"
      ]
     },
     "execution_count": 135,
     "metadata": {},
     "output_type": "execute_result"
    }
   ],
   "source": [
    "company.groupby(\"Category\").Sales.sum()"
   ]
  },
  {
   "cell_type": "code",
   "execution_count": 147,
   "id": "9608824e-9fd2-4254-980e-47e3a56d1ce5",
   "metadata": {},
   "outputs": [
    {
     "data": {
      "text/plain": [
       "0    Laptop\n",
       "Name: Product, dtype: object"
      ]
     },
     "execution_count": 147,
     "metadata": {},
     "output_type": "execute_result"
    }
   ],
   "source": [
    "company[\"Product\"].loc[company.Sales == max(company.Sales)]"
   ]
  }
 ],
 "metadata": {
  "kernelspec": {
   "display_name": "Python 3 (ipykernel)",
   "language": "python",
   "name": "python3"
  },
  "language_info": {
   "codemirror_mode": {
    "name": "ipython",
    "version": 3
   },
   "file_extension": ".py",
   "mimetype": "text/x-python",
   "name": "python",
   "nbconvert_exporter": "python",
   "pygments_lexer": "ipython3",
   "version": "3.12.7"
  }
 },
 "nbformat": 4,
 "nbformat_minor": 5
}
