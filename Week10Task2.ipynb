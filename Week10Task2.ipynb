{
 "cells": [
  {
   "cell_type": "markdown",
   "id": "f670c83f-1999-4d39-8ac9-80a7f336a629",
   "metadata": {
    "panel-layout": {
     "height": 60.583335876464844,
     "visible": true,
     "width": 100
    }
   },
   "source": [
    "# Step 1: Select a Dataset (10 Marks)"
   ]
  },
  {
   "cell_type": "markdown",
   "id": "1dff1f4c-8a36-4064-b91e-b2f96c7dde2a",
   "metadata": {
    "panel-layout": {
     "height": 138.55555725097656,
     "visible": true,
     "width": 100
    }
   },
   "source": [
    "Choose a dataset from Kaggle or any other open-source platform.\n",
    "\n",
    "Ensure the dataset has sufficient features and a well-defined target variable.\n",
    "\n",
    "(5 Marks): Proper dataset selection (relevant to classification or regression).\n",
    "\n",
    "(5 Marks): Successfully loading the dataset into Python (Pandas)."
   ]
  },
  {
   "cell_type": "code",
   "execution_count": 1,
   "id": "90e06579-9d0a-44fd-963b-5e85f492fa45",
   "metadata": {},
   "outputs": [],
   "source": [
    "import pandas as pd\n",
    "titanic = pd.read_csv(\"Titanic-Dataset.csv\")"
   ]
  },
  {
   "cell_type": "code",
   "execution_count": 2,
   "id": "f9fc1370-0efb-4eec-8dcb-eb284c573c89",
   "metadata": {},
   "outputs": [
    {
     "data": {
      "text/html": [
       "<div>\n",
       "<style scoped>\n",
       "    .dataframe tbody tr th:only-of-type {\n",
       "        vertical-align: middle;\n",
       "    }\n",
       "\n",
       "    .dataframe tbody tr th {\n",
       "        vertical-align: top;\n",
       "    }\n",
       "\n",
       "    .dataframe thead th {\n",
       "        text-align: right;\n",
       "    }\n",
       "</style>\n",
       "<table border=\"1\" class=\"dataframe\">\n",
       "  <thead>\n",
       "    <tr style=\"text-align: right;\">\n",
       "      <th></th>\n",
       "      <th>PassengerId</th>\n",
       "      <th>Survived</th>\n",
       "      <th>Pclass</th>\n",
       "      <th>Age</th>\n",
       "      <th>SibSp</th>\n",
       "      <th>Parch</th>\n",
       "      <th>Fare</th>\n",
       "    </tr>\n",
       "  </thead>\n",
       "  <tbody>\n",
       "    <tr>\n",
       "      <th>count</th>\n",
       "      <td>891.000000</td>\n",
       "      <td>891.000000</td>\n",
       "      <td>891.000000</td>\n",
       "      <td>714.000000</td>\n",
       "      <td>891.000000</td>\n",
       "      <td>891.000000</td>\n",
       "      <td>891.000000</td>\n",
       "    </tr>\n",
       "    <tr>\n",
       "      <th>mean</th>\n",
       "      <td>446.000000</td>\n",
       "      <td>0.383838</td>\n",
       "      <td>2.308642</td>\n",
       "      <td>29.699118</td>\n",
       "      <td>0.523008</td>\n",
       "      <td>0.381594</td>\n",
       "      <td>32.204208</td>\n",
       "    </tr>\n",
       "    <tr>\n",
       "      <th>std</th>\n",
       "      <td>257.353842</td>\n",
       "      <td>0.486592</td>\n",
       "      <td>0.836071</td>\n",
       "      <td>14.526497</td>\n",
       "      <td>1.102743</td>\n",
       "      <td>0.806057</td>\n",
       "      <td>49.693429</td>\n",
       "    </tr>\n",
       "    <tr>\n",
       "      <th>min</th>\n",
       "      <td>1.000000</td>\n",
       "      <td>0.000000</td>\n",
       "      <td>1.000000</td>\n",
       "      <td>0.420000</td>\n",
       "      <td>0.000000</td>\n",
       "      <td>0.000000</td>\n",
       "      <td>0.000000</td>\n",
       "    </tr>\n",
       "    <tr>\n",
       "      <th>25%</th>\n",
       "      <td>223.500000</td>\n",
       "      <td>0.000000</td>\n",
       "      <td>2.000000</td>\n",
       "      <td>20.125000</td>\n",
       "      <td>0.000000</td>\n",
       "      <td>0.000000</td>\n",
       "      <td>7.910400</td>\n",
       "    </tr>\n",
       "    <tr>\n",
       "      <th>50%</th>\n",
       "      <td>446.000000</td>\n",
       "      <td>0.000000</td>\n",
       "      <td>3.000000</td>\n",
       "      <td>28.000000</td>\n",
       "      <td>0.000000</td>\n",
       "      <td>0.000000</td>\n",
       "      <td>14.454200</td>\n",
       "    </tr>\n",
       "    <tr>\n",
       "      <th>75%</th>\n",
       "      <td>668.500000</td>\n",
       "      <td>1.000000</td>\n",
       "      <td>3.000000</td>\n",
       "      <td>38.000000</td>\n",
       "      <td>1.000000</td>\n",
       "      <td>0.000000</td>\n",
       "      <td>31.000000</td>\n",
       "    </tr>\n",
       "    <tr>\n",
       "      <th>max</th>\n",
       "      <td>891.000000</td>\n",
       "      <td>1.000000</td>\n",
       "      <td>3.000000</td>\n",
       "      <td>80.000000</td>\n",
       "      <td>8.000000</td>\n",
       "      <td>6.000000</td>\n",
       "      <td>512.329200</td>\n",
       "    </tr>\n",
       "  </tbody>\n",
       "</table>\n",
       "</div>"
      ],
      "text/plain": [
       "       PassengerId    Survived      Pclass         Age       SibSp  \\\n",
       "count   891.000000  891.000000  891.000000  714.000000  891.000000   \n",
       "mean    446.000000    0.383838    2.308642   29.699118    0.523008   \n",
       "std     257.353842    0.486592    0.836071   14.526497    1.102743   \n",
       "min       1.000000    0.000000    1.000000    0.420000    0.000000   \n",
       "25%     223.500000    0.000000    2.000000   20.125000    0.000000   \n",
       "50%     446.000000    0.000000    3.000000   28.000000    0.000000   \n",
       "75%     668.500000    1.000000    3.000000   38.000000    1.000000   \n",
       "max     891.000000    1.000000    3.000000   80.000000    8.000000   \n",
       "\n",
       "            Parch        Fare  \n",
       "count  891.000000  891.000000  \n",
       "mean     0.381594   32.204208  \n",
       "std      0.806057   49.693429  \n",
       "min      0.000000    0.000000  \n",
       "25%      0.000000    7.910400  \n",
       "50%      0.000000   14.454200  \n",
       "75%      0.000000   31.000000  \n",
       "max      6.000000  512.329200  "
      ]
     },
     "execution_count": 2,
     "metadata": {},
     "output_type": "execute_result"
    }
   ],
   "source": [
    "titanic.describe()"
   ]
  },
  {
   "cell_type": "markdown",
   "id": "74b6f1ed-9819-48fb-83ae-e5b6df79a05d",
   "metadata": {},
   "source": [
    "# Step 2: Data Cleaning (20 Marks)"
   ]
  },
  {
   "cell_type": "markdown",
   "id": "2a930ac9-7995-42e5-ab6b-8043288c3478",
   "metadata": {},
   "source": [
    "Handle missing values (remove or impute missing data appropriately).\n",
    "\n",
    "Check for and remove duplicates, if applicable.\n",
    "\n",
    "Ensure proper formatting and structure for further analysis.\n",
    "\n",
    "(10 Marks): Identifying and handling missing values correctly.\n",
    "\n",
    "(5 Marks): Cleaning data effectively and providing justification.\n",
    "\n",
    "(5 Marks): Ensuring the dataset is properly structured and ready for modeling."
   ]
  },
  {
   "cell_type": "code",
   "execution_count": 3,
   "id": "a6818438-6777-4821-b289-63be264f4ac2",
   "metadata": {},
   "outputs": [
    {
     "name": "stdout",
     "output_type": "stream",
     "text": [
      "PassengerId      0\n",
      "Survived         0\n",
      "Pclass           0\n",
      "Name             0\n",
      "Sex              0\n",
      "Age            177\n",
      "SibSp            0\n",
      "Parch            0\n",
      "Ticket           0\n",
      "Fare             0\n",
      "Cabin          687\n",
      "Embarked         2\n",
      "dtype: int64\n"
     ]
    }
   ],
   "source": [
    "#Finding missing values\n",
    "\n",
    "print(titanic.isnull().sum())"
   ]
  },
  {
   "cell_type": "code",
   "execution_count": 4,
   "id": "c17e03b2-d8cd-4fe3-8201-434752bcecee",
   "metadata": {},
   "outputs": [],
   "source": [
    "#Filling NULL values with median for age field\n",
    "\n",
    "titanic[\"Age\"] = titanic[\"Age\"].fillna(titanic[\"Age\"].median())"
   ]
  },
  {
   "cell_type": "code",
   "execution_count": 38,
   "id": "73086506-15df-4654-9e9f-c8be85171c29",
   "metadata": {},
   "outputs": [
    {
     "data": {
      "text/plain": [
       "0"
      ]
     },
     "execution_count": 38,
     "metadata": {},
     "output_type": "execute_result"
    }
   ],
   "source": [
    "#checking if any null values exist\n",
    "\n",
    "titanic[\"Age\"].isnull().sum()"
   ]
  },
  {
   "cell_type": "code",
   "execution_count": 6,
   "id": "a55b7e5f-3ad8-4cc4-9b02-3633445b279c",
   "metadata": {},
   "outputs": [
    {
     "data": {
      "text/plain": [
       "0       NaN\n",
       "1       C85\n",
       "2       NaN\n",
       "3      C123\n",
       "4       NaN\n",
       "       ... \n",
       "886     NaN\n",
       "887     B42\n",
       "888     NaN\n",
       "889    C148\n",
       "890     NaN\n",
       "Name: Cabin, Length: 891, dtype: object"
      ]
     },
     "execution_count": 6,
     "metadata": {},
     "output_type": "execute_result"
    }
   ],
   "source": [
    "#Droping the cabin field as it has many null values\n",
    "\n",
    "titanic.pop(\"Cabin\")"
   ]
  },
  {
   "cell_type": "code",
   "execution_count": 7,
   "id": "da8ad3b7-338f-4c2b-959b-ee0939364711",
   "metadata": {},
   "outputs": [
    {
     "data": {
      "text/plain": [
       "Index(['PassengerId', 'Survived', 'Pclass', 'Name', 'Sex', 'Age', 'SibSp',\n",
       "       'Parch', 'Ticket', 'Fare', 'Embarked'],\n",
       "      dtype='object')"
      ]
     },
     "execution_count": 7,
     "metadata": {},
     "output_type": "execute_result"
    }
   ],
   "source": [
    "#Confirming cabin is dropped\n",
    "\n",
    "titanic.columns"
   ]
  },
  {
   "cell_type": "code",
   "execution_count": 8,
   "id": "1fef4248-7d5e-49cb-ae2e-284f6e43e46e",
   "metadata": {},
   "outputs": [
    {
     "name": "stdout",
     "output_type": "stream",
     "text": [
      "0\n"
     ]
    }
   ],
   "source": [
    "#checking duplicates\n",
    "\n",
    "print(titanic.duplicated().sum())"
   ]
  },
  {
   "cell_type": "code",
   "execution_count": 9,
   "id": "c96b8ed8-02f7-4c92-8c1e-be566c2132fa",
   "metadata": {},
   "outputs": [
    {
     "data": {
      "text/plain": [
       "PassengerId      int64\n",
       "Survived         int64\n",
       "Pclass           int64\n",
       "Name            object\n",
       "Sex             object\n",
       "Age            float64\n",
       "SibSp            int64\n",
       "Parch            int64\n",
       "Ticket          object\n",
       "Fare           float64\n",
       "Embarked        object\n",
       "dtype: object"
      ]
     },
     "execution_count": 9,
     "metadata": {},
     "output_type": "execute_result"
    }
   ],
   "source": [
    "#checking datatypes\n",
    "\n",
    "titanic.dtypes"
   ]
  },
  {
   "cell_type": "code",
   "execution_count": 10,
   "id": "8ff84a41-ac05-4baf-ae97-e889da6e2b88",
   "metadata": {},
   "outputs": [
    {
     "data": {
      "text/html": [
       "<div>\n",
       "<style scoped>\n",
       "    .dataframe tbody tr th:only-of-type {\n",
       "        vertical-align: middle;\n",
       "    }\n",
       "\n",
       "    .dataframe tbody tr th {\n",
       "        vertical-align: top;\n",
       "    }\n",
       "\n",
       "    .dataframe thead th {\n",
       "        text-align: right;\n",
       "    }\n",
       "</style>\n",
       "<table border=\"1\" class=\"dataframe\">\n",
       "  <thead>\n",
       "    <tr style=\"text-align: right;\">\n",
       "      <th></th>\n",
       "      <th>Sex</th>\n",
       "      <th>Embarked</th>\n",
       "    </tr>\n",
       "  </thead>\n",
       "  <tbody>\n",
       "    <tr>\n",
       "      <th>0</th>\n",
       "      <td>male</td>\n",
       "      <td>S</td>\n",
       "    </tr>\n",
       "    <tr>\n",
       "      <th>1</th>\n",
       "      <td>female</td>\n",
       "      <td>C</td>\n",
       "    </tr>\n",
       "    <tr>\n",
       "      <th>2</th>\n",
       "      <td>female</td>\n",
       "      <td>S</td>\n",
       "    </tr>\n",
       "    <tr>\n",
       "      <th>3</th>\n",
       "      <td>female</td>\n",
       "      <td>S</td>\n",
       "    </tr>\n",
       "    <tr>\n",
       "      <th>4</th>\n",
       "      <td>male</td>\n",
       "      <td>S</td>\n",
       "    </tr>\n",
       "  </tbody>\n",
       "</table>\n",
       "</div>"
      ],
      "text/plain": [
       "      Sex Embarked\n",
       "0    male        S\n",
       "1  female        C\n",
       "2  female        S\n",
       "3  female        S\n",
       "4    male        S"
      ]
     },
     "execution_count": 10,
     "metadata": {},
     "output_type": "execute_result"
    }
   ],
   "source": [
    "#Checking sex and embarked field\n",
    "titanic[[\"Sex\" , \"Embarked\"]].head()"
   ]
  },
  {
   "cell_type": "code",
   "execution_count": 29,
   "id": "35e0b162-ef82-4b05-8b92-01e45cb39ee5",
   "metadata": {},
   "outputs": [],
   "source": [
    "#Changing data types of Sex and Embarked field for better formatting\n",
    "\n",
    "titanic[\"Sex\"] = titanic[\"Sex\"].astype(\"category\")\n",
    "titanic[\"Embarked\"] = titanic[\"Embarked\"].astype(\"category\")"
   ]
  },
  {
   "cell_type": "code",
   "execution_count": 12,
   "id": "830a361c-bc82-4b9f-b02c-3af7a9501abd",
   "metadata": {},
   "outputs": [
    {
     "data": {
      "text/plain": [
       "PassengerId       int64\n",
       "Survived          int64\n",
       "Pclass            int64\n",
       "Name             object\n",
       "Sex            category\n",
       "Age             float64\n",
       "SibSp             int64\n",
       "Parch             int64\n",
       "Ticket           object\n",
       "Fare            float64\n",
       "Embarked       category\n",
       "dtype: object"
      ]
     },
     "execution_count": 12,
     "metadata": {},
     "output_type": "execute_result"
    }
   ],
   "source": [
    "#Confirming changing of datatype\n",
    "titanic.dtypes"
   ]
  },
  {
   "cell_type": "markdown",
   "id": "ae4851b0-e03f-4143-8c91-9ca1aaff8960",
   "metadata": {},
   "source": [
    "# Step 3: Exploratory Data Analysis (EDA) & Visualization (20 Marks)"
   ]
  },
  {
   "cell_type": "markdown",
   "id": "77e02565-3ce0-418e-ba05-2feea0b0fcba",
   "metadata": {},
   "source": [
    "Visualize important features using graphs (e.g., histograms, scatter plots, bar charts).\n",
    "\n",
    "Generate a correlation heatmap (if applicable).\n",
    "\n",
    "Extract and explain 3-5 key insights from the dataset.\n",
    "\n",
    "(10 Marks): Clear and informative visualizations.\n",
    "\n",
    "(10 Marks): Well-explained insights based on the visualizations."
   ]
  },
  {
   "cell_type": "code",
   "execution_count": 13,
   "id": "404b6ee9-7fd7-41d9-8ec9-49fd650db876",
   "metadata": {},
   "outputs": [],
   "source": [
    "#importing seaborn and matplotlib\n",
    "\n",
    "from matplotlib import pyplot as plt\n",
    "import seaborn as sns"
   ]
  },
  {
   "cell_type": "code",
   "execution_count": 14,
   "id": "ab15016f-997c-4b9c-9af5-cb0ed548ab52",
   "metadata": {},
   "outputs": [
    {
     "data": {
      "image/png": "[encoded data removed]",
      "text/plain": [
       "<Figure size 640x480 with 1 Axes>"
      ]
     },
     "metadata": {},
     "output_type": "display_data"
    }
   ],
   "source": [
    "#plotting a countplot to visualize how many people survived\n",
    "\n",
    "sns.countplot(x = titanic['Survived'])\n",
    "\n",
    "#changing the name of the categories because 0,1 doesnt look good\n",
    "plt.xticks(ticks = [0,1] , labels = [\"Not Survived\" , \"Survived\"]) \n",
    "plt.title(\"Survival Count\")\n",
    "plt.show()"
   ]
  },
  {
   "cell_type": "markdown",
   "id": "98afddb0-6cfb-4b0a-89c5-e18a0fb8f468",
   "metadata": {},
   "source": [
    "Analysis:\n",
    "\n",
    "Simple as it looks; Around 350 people could survive while the others couldn't."
   ]
  },
  {
   "cell_type": "code",
   "execution_count": 15,
   "id": "d9dd3aee-6d84-4f35-96d9-57ff9f9b8bbd",
   "metadata": {},
   "outputs": [
    {
     "data": {
      "text/plain": [
       "342"
      ]
     },
     "execution_count": 15,
     "metadata": {},
     "output_type": "execute_result"
    }
   ],
   "source": [
    "#Checking the correctnesss of the plot\n",
    "\n",
    "titanic[\"Survived\"].value_counts()[1]"
   ]
  },
  {
   "cell_type": "code",
   "execution_count": 16,
   "id": "59ad7493-c267-4be1-8e3e-ba12d8fb58b2",
   "metadata": {},
   "outputs": [
    {
     "data": {
      "image/png": "[encoded data removed]",
      "text/plain": [
       "<Figure size 640x480 with 1 Axes>"
      ]
     },
     "metadata": {},
     "output_type": "display_data"
    }
   ],
   "source": [
    "#Barplot to visualize Survival Rate By Gender\n",
    "\n",
    "sns.barplot(x = \"Sex\" , y = \"Survived\" , data = titanic)\n",
    "plt.title(\"Survival Rate by Gender\")\n",
    "plt.show()"
   ]
  },
  {
   "cell_type": "markdown",
   "id": "644bb4ff-0504-4b1a-9ba9-c9bc97f2a423",
   "metadata": {},
   "source": [
    "Analysis:\n",
    "\n",
    "More than 70% females survived, and only 20% males survived. \n",
    "\n",
    "This might be because safety measures were predetermined for females. Also, females are prioritized for rescuing, and a large number of males must have worked in the rescuing process."
   ]
  },
  {
   "cell_type": "code",
   "execution_count": 17,
   "id": "52da812b-45b1-47e1-b8fb-383fb6db4a21",
   "metadata": {},
   "outputs": [
    {
     "data": {
      "image/png": "[encoded data removed]",
      "text/plain": [
       "<Figure size 640x480 with 2 Axes>"
      ]
     },
     "metadata": {},
     "output_type": "display_data"
    }
   ],
   "source": [
    "# Correlation heatmap to understand the relation between different fields\n",
    "\n",
    "sns.heatmap(titanic.corr(numeric_only = True) , annot = True , cmap = \"coolwarm\")\n",
    "plt.title(\"Correlation Hetmap\")\n",
    "plt.show()"
   ]
  },
  {
   "cell_type": "markdown",
   "id": "3f80ad36-8f2e-4cb7-a66f-a0259cc399dc",
   "metadata": {},
   "source": [
    "Analysis:\n",
    "\n",
    "The strongest relation here is of class with fare.\n",
    "The higher the class is, the lower the fare. It makes sense. Because 1st class fare must be higher than 3rd class.\n",
    "\n",
    "Another good realization is that survival rate has a positive correlation with fare. So, the people who paid more must have extra security measures."
   ]
  },
  {
   "cell_type": "code",
   "execution_count": 18,
   "id": "b438168e-e95b-4e83-b09b-fa89b63e0b6c",
   "metadata": {},
   "outputs": [
    {
     "data": {
      "image/png": "[encoded data removed]",
      "text/plain": [
       "<Figure size 640x480 with 1 Axes>"
      ]
     },
     "metadata": {},
     "output_type": "display_data"
    }
   ],
   "source": [
    "#Violin plot to visualize relation between age and survival\n",
    "\n",
    "sns.violinplot(x = \"Survived\" , y = \"Age\" , data = titanic)\n",
    "plt.title(\"Survival Age Distribution\")\n",
    "plt.show()"
   ]
  },
  {
   "cell_type": "markdown",
   "id": "e3400083-5ab5-4633-bd5b-465bd90325cf",
   "metadata": {},
   "source": [
    "Analysis:\n",
    "\n",
    "We can see, both survived and not survived people were from the age group around 25. \n",
    "\n",
    "This might be because, usually, elderly and very young people don't travel as much as grownups do.\n",
    "\n",
    "Also, people of age 25 have more survival instincts, which is why they might have survived.\n",
    "\n",
    "For the not-surviving fact, people in the age group of 25 were not prioritized for rescuing."
   ]
  },
  {
   "cell_type": "markdown",
   "id": "d6bce5c2-bda7-449a-a350-8d5bd8b86e4b",
   "metadata": {},
   "source": [
    "# Step 4: Apply a Machine Learning Model (30 Marks)"
   ]
  },
  {
   "cell_type": "markdown",
   "id": "a2911d6c-95a3-41b4-aded-b23e603fe083",
   "metadata": {},
   "source": [
    "Choose and apply either a Regression or Classification model:\n",
    "\n",
    "If the target variable is numerical → Linear Regression.\n",
    "\n",
    "If the target variable is categorical → Logistic Regression or another classification model.\n",
    "\n",
    "Train the model using Scikit-learn.\n",
    "\n",
    "Display and interpret the accuracy score (for classification) or RMSE (for regression).\n",
    "\n",
    "(10 Marks): Correct model selection based on dataset type.\n",
    "\n",
    "(10 Marks): Implementing and training the model properly.\n",
    "    \n",
    "(10 Marks): Displaying and correctly interpreting accuracy/RMSE."
   ]
  },
  {
   "cell_type": "code",
   "execution_count": 34,
   "id": "7e4ddb48-8339-48e4-bc90-0bed249873c1",
   "metadata": {},
   "outputs": [
    {
     "data": {
      "text/plain": [
       "PassengerId       int64\n",
       "Survived          int64\n",
       "Pclass            int64\n",
       "Name             object\n",
       "Sex            category\n",
       "Age             float64\n",
       "SibSp             int64\n",
       "Parch             int64\n",
       "Ticket           object\n",
       "Fare            float64\n",
       "Embarked       category\n",
       "dtype: object"
      ]
     },
     "execution_count": 34,
     "metadata": {},
     "output_type": "execute_result"
    }
   ],
   "source": [
    "titanic.dtypes"
   ]
  },
  {
   "cell_type": "code",
   "execution_count": 44,
   "id": "5cde28cc-c1ea-4957-b9f5-f318b262ada2",
   "metadata": {},
   "outputs": [
    {
     "name": "stdout",
     "output_type": "stream",
     "text": [
      "Accuracy: 0.72\n",
      "Confusion Matrix:\n",
      " [[87 18]\n",
      " [32 42]]\n",
      "Classification Report:\n",
      "               precision    recall  f1-score   support\n",
      "\n",
      "           0       0.73      0.83      0.78       105\n",
      "           1       0.70      0.57      0.63        74\n",
      "\n",
      "    accuracy                           0.72       179\n",
      "   macro avg       0.72      0.70      0.70       179\n",
      "weighted avg       0.72      0.72      0.71       179\n",
      "\n"
     ]
    }
   ],
   "source": [
    "#importing Necessary Libraries\n",
    "\n",
    "from sklearn.model_selection import train_test_split\n",
    "from sklearn.preprocessing import StandardScaler\n",
    "from sklearn.ensemble import RandomForestClassifier\n",
    "from sklearn.metrics import accuracy_score, confusion_matrix, classification_report\n",
    "\n",
    "#Setting the features\n",
    "\n",
    "features = [\"Pclass\", \"Age\", \"Fare\"]\n",
    "X = titanic[features]\n",
    "y = titanic[\"Survived\"]\n",
    "\n",
    "# Split dataset\n",
    "X_train, X_test, y_train, y_test = train_test_split(X, y, test_size=0.2, random_state=42)\n",
    "\n",
    "# Standardize features\n",
    "scaler = StandardScaler()\n",
    "X_train = scaler.fit_transform(X_train)\n",
    "X_test = scaler.transform(X_test)\n",
    "\n",
    "#Model Fitting\n",
    "\n",
    "model = RandomForestClassifier(n_estimators=100, random_state=42)\n",
    "model.fit(X_train, y_train)\n",
    "y_pred = model.predict(X_test)\n",
    "\n",
    "# Evaluate the model\n",
    "accuracy = accuracy_score(y_test, y_pred)\n",
    "conf_matrix = confusion_matrix(y_test, y_pred)\n",
    "class_report = classification_report(y_test, y_pred)\n",
    "\n",
    "print(f\"Accuracy: {accuracy:.2f}\")\n",
    "print(\"Confusion Matrix:\\n\", conf_matrix)\n",
    "print(\"Classification Report:\\n\", class_report)"
   ]
  },
  {
   "cell_type": "markdown",
   "id": "a79fa146-e9e5-4990-9c30-4abf6c18d5b7",
   "metadata": {},
   "source": [
    "# Step 5: Conclusion & Future Improvements (20 Marks)"
   ]
  },
  {
   "cell_type": "markdown",
   "id": "979cdf5d-8768-433c-a5bd-76bc8a4e37f4",
   "metadata": {},
   "source": [
    "Summarize findings and discuss model performance.\n",
    "\n",
    "Suggest at least two possible improvements (e.g., using more data, trying a different model, feature engineering).\n",
    "\n",
    "(10 Marks): Well-explained summary of findings.\n",
    "    \n",
    "(10 Marks): Thoughtful suggestions for improvement."
   ]
  },
  {
   "cell_type": "markdown",
   "id": "60b520b2-1e52-4607-af77-8654727685c6",
   "metadata": {},
   "source": [
    "Summary:\n",
    "\n",
    "In this analysis, a Random Forest Classifier was applied to predict passenger survival on the Titanic dataset using three key features: Pclass, Age, and Fare. The model was trained and tested using an 80-20 data split, with feature scaling applied for standardization. The evaluation metrics, including accuracy, confusion matrix, and classification report, provided insights into the model's performance.\n",
    "\n",
    "The model achieved an accuracy of approximately 72%, indicating its effectiveness in distinguishing between survivors and non-survivors. The confusion matrix highlighted areas where misclassifications occurred, particularly between certain age groups and fare ranges. The classification report provided further details on precision, recall, and F1-score, helping us understand the balance between false positives and false negatives.\n",
    "\n"
   ]
  },
  {
   "cell_type": "markdown",
   "id": "a768d63b-f2a6-4edd-b2a5-7a62929812a4",
   "metadata": {},
   "source": [
    "Future Improvements:\n",
    "\n",
    "1. Using More Features: More features could have been used. Such as Sex, Cabin, etc., but they were causing errors that I failed to debug even after trying hard, so I removed them from the feature list. In the future, I'll try to include as many relevant features as possible, In Sha Allah.\n",
    "\n",
    "2. Using upgraded models: I used the RandomForest Model, which was the best model taught by Kaggle. But I know there are better models like XGboost. As I learn them in the future, I'll try to apply them.\n",
    "\n",
    "3. Using Multiple Datasets: I used only one dataset. But I guess multiple datasets can be used to enhance accuracy."
   ]
  },
  {
   "cell_type": "code",
   "execution_count": null,
   "id": "785acce8-d625-4403-9600-43a317837920",
   "metadata": {},
   "outputs": [],
   "source": []
  }
 ],
 "metadata": {
  "kernelspec": {
   "display_name": "Python 3 (ipykernel)",
   "language": "python",
   "name": "python3"
  },
  "language_info": {
   "codemirror_mode": {
    "name": "ipython",
    "version": 3
   },
   "file_extension": ".py",
   "mimetype": "text/x-python",
   "name": "python",
   "nbconvert_exporter": "python",
   "pygments_lexer": "ipython3",
   "version": "3.12.7"
  },
  "panel-cell-order": [
   "f670c83f-1999-4d39-8ac9-80a7f336a629",
   "1dff1f4c-8a36-4064-b91e-b2f96c7dde2a"
  ]
 },
 "nbformat": 4,
 "nbformat_minor": 5
}
