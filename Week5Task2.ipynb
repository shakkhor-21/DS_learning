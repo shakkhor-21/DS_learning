{
 "cells": [
  {
   "cell_type": "markdown",
   "id": "a56f9994-59f7-4fd0-b8c1-5ccabb289519",
   "metadata": {},
   "source": [
    "# Grouping, Merging, and Time-Series with Pandas"
   ]
  },
  {
   "cell_type": "markdown",
   "id": "a96f93ef-447f-4e01-b5cc-328d0f0180d3",
   "metadata": {},
   "source": [
    "# 1. Grouping and Aggregation (20 Marks)"
   ]
  },
  {
   "cell_type": "code",
   "execution_count": 4,
   "id": "dc21ec67-4957-48c9-8f17-b2cdc5051efc",
   "metadata": {},
   "outputs": [],
   "source": [
    "import pandas as pd\n",
    "\n",
    "data = {\n",
    "    'Employee': ['Alice', 'Bob', 'Alice', 'Bob', 'Charlie', 'Alice', 'Charlie', 'Bob'],\n",
    "    'Region': ['North', 'South', 'North', 'South', 'North', 'South', 'North', 'North'],\n",
    "    'Sales': [200, 150, 300, 400, 100, 250, 300, 350],\n",
    "    'Year': [2023, 2023, 2024, 2024, 2023, 2024, 2024, 2023]\n",
    "}\n",
    "\n",
    "df = pd.DataFrame(data)"
   ]
  },
  {
   "cell_type": "markdown",
   "id": "ed9c9d12-173e-4f3e-b574-4b11442d6972",
   "metadata": {},
   "source": [
    "1. Group the data by Employee and calculate the total sales for each employee. (5 Marks)"
   ]
  },
  {
   "cell_type": "code",
   "execution_count": 6,
   "id": "ac913272-4ffe-4ff0-a64d-5a0ec70afe10",
   "metadata": {},
   "outputs": [
    {
     "name": "stdout",
     "output_type": "stream",
     "text": [
      "Employee\n",
      "Alice      750\n",
      "Bob        900\n",
      "Charlie    400\n",
      "Name: Sales, dtype: int64\n"
     ]
    }
   ],
   "source": [
    "Total_Sales = df.groupby(['Employee']).Sales.sum()\n",
    "print(Total_Sales)"
   ]
  },
  {
   "cell_type": "markdown",
   "id": "e5c245a3-6c31-40f7-aefe-af98cdecfc9b",
   "metadata": {},
   "source": [
    "2. Group the data by Region and find the average sales per region. (5 Marks)"
   ]
  },
  {
   "cell_type": "code",
   "execution_count": 8,
   "id": "bee0a505-4283-4f9e-a2a6-7cbcae3fdccc",
   "metadata": {},
   "outputs": [
    {
     "name": "stdout",
     "output_type": "stream",
     "text": [
      "Region\n",
      "North    250.000000\n",
      "South    266.666667\n",
      "Name: Sales, dtype: float64\n"
     ]
    }
   ],
   "source": [
    "print(df.groupby('Region').Sales.mean())"
   ]
  },
  {
   "cell_type": "markdown",
   "id": "61fd6b9d-5889-4183-95af-e937d6b6bc44",
   "metadata": {},
   "source": [
    "3. Group the data by both Employee and Year to calculate the total sales for each combination. (10 Marks)"
   ]
  },
  {
   "cell_type": "code",
   "execution_count": 10,
   "id": "1c061c74-bdf4-4e33-a798-779d41aec771",
   "metadata": {},
   "outputs": [
    {
     "name": "stdout",
     "output_type": "stream",
     "text": [
      "Employee  Year\n",
      "Alice     2023    200\n",
      "          2024    550\n",
      "Bob       2023    500\n",
      "          2024    400\n",
      "Charlie   2023    100\n",
      "          2024    300\n",
      "Name: Sales, dtype: int64\n"
     ]
    }
   ],
   "source": [
    "print(df.groupby(['Employee' , 'Year']).Sales.sum())"
   ]
  },
  {
   "cell_type": "markdown",
   "id": "40273a61-aeec-4dc9-9fe4-b34089d40c3c",
   "metadata": {},
   "source": [
    "# 2. Merging and Concatenation (20 Marks)"
   ]
  },
  {
   "cell_type": "code",
   "execution_count": 12,
   "id": "9d55f76f-91e3-49ab-9346-6bfb7b7a56b7",
   "metadata": {},
   "outputs": [],
   "source": [
    "employee_details = pd.DataFrame({\n",
    "    'Employee': ['Alice', 'Bob', 'Charlie', 'David'],\n",
    "    'Age': [25, 30, 35, 40],\n",
    "    'Department': ['Sales', 'Sales', 'Marketing', 'HR']\n",
    "})\n",
    "\n",
    "sales_targets = pd.DataFrame({\n",
    "    'Employee': ['Alice', 'Bob', 'Charlie', 'David'],\n",
    "    'Sales_Target': [1000, 1200, 800, 500]\n",
    "})"
   ]
  },
  {
   "cell_type": "markdown",
   "id": "66ab4b51-75e9-4fd8-a22d-1327c3f4b561",
   "metadata": {},
   "source": [
    "1. Merge the two datasets on the Employee column to combine all details. (10 Marks)"
   ]
  },
  {
   "cell_type": "code",
   "execution_count": 14,
   "id": "2e9a6b4d-cd04-49aa-9211-4440653ab0a4",
   "metadata": {},
   "outputs": [
    {
     "name": "stdout",
     "output_type": "stream",
     "text": [
      "  Employee  Age Department  Sales_Target\n",
      "0    Alice   25      Sales          1000\n",
      "1      Bob   30      Sales          1200\n",
      "2  Charlie   35  Marketing           800\n",
      "3    David   40         HR           500\n"
     ]
    }
   ],
   "source": [
    "employee_sales = pd.merge(employee_details,sales_targets , on = 'Employee')\n",
    "print(employee_sales)"
   ]
  },
  {
   "cell_type": "markdown",
   "id": "94943bac-be99-4553-84b4-aa2795400c52",
   "metadata": {},
   "source": [
    "2. Create a new column showing the difference between Sales_Target and total sales (calculated from Task 1). Hint: Use the merged dataset for calculations. (10 Marks)"
   ]
  },
  {
   "cell_type": "code",
   "execution_count": 16,
   "id": "e79adb5b-a381-4fb8-a255-aff27810d50a",
   "metadata": {},
   "outputs": [
    {
     "name": "stdout",
     "output_type": "stream",
     "text": [
      "  Employee  Age Department  Sales_Target  Sales  difference\n",
      "0    Alice   25      Sales          1000    750         250\n",
      "1      Bob   30      Sales          1200    900         300\n",
      "2  Charlie   35  Marketing           800    400         400\n"
     ]
    }
   ],
   "source": [
    "difference = pd.merge(employee_sales , Total_Sales , on = 'Employee')\n",
    "difference['difference'] = difference['Sales_Target'] - difference ['Sales'] \n",
    "print(difference)"
   ]
  },
  {
   "cell_type": "markdown",
   "id": "5189dfb9-8cc4-4967-9574-de430be8b0a1",
   "metadata": {},
   "source": [
    "# 3. Working with Time-Series Data (20 Marks)"
   ]
  },
  {
   "cell_type": "code",
   "execution_count": 18,
   "id": "6b9e40f6-1c3f-4a71-9f93-9f258c56e13f",
   "metadata": {},
   "outputs": [],
   "source": [
    "stock_prices = pd.DataFrame({\n",
    "    'Date': ['2024-01-01', '2024-01-02', '2024-01-03', '2024-01-04', '2024-01-05'],\n",
    "    'Price': [100, 102, 105, 107, 110]\n",
    "})"
   ]
  },
  {
   "cell_type": "markdown",
   "id": "6c425f10-98ec-4ad1-ba67-d90c45610741",
   "metadata": {},
   "source": [
    "1. Convert the Date column to a datetime object. (5 Marks)"
   ]
  },
  {
   "cell_type": "code",
   "execution_count": 20,
   "id": "cc52c5d7-e7c6-4b0c-82b3-2ef4c9a095d3",
   "metadata": {},
   "outputs": [
    {
     "name": "stdout",
     "output_type": "stream",
     "text": [
      "datetime64[ns]\n"
     ]
    }
   ],
   "source": [
    "stock_prices['Date'] = pd.to_datetime(stock_prices['Date'])\n",
    "print(stock_prices.Date.dtype)"
   ]
  },
  {
   "cell_type": "markdown",
   "id": "2bec1d27-3629-4fdb-855b-0483ed6bb1cd",
   "metadata": {},
   "source": [
    "2. Resample the data to calculate the weekly average price. (10 Marks)"
   ]
  },
  {
   "cell_type": "code",
   "execution_count": 22,
   "id": "f58df067-7d03-4244-96c9-4e4510ee4eae",
   "metadata": {},
   "outputs": [
    {
     "name": "stdout",
     "output_type": "stream",
     "text": [
      "Date\n",
      "2024-01-07    104.8\n",
      "Freq: W-SUN, Name: Price, dtype: float64\n"
     ]
    }
   ],
   "source": [
    "stock_prices.set_index('Date' , inplace = True)\n",
    "print(stock_prices['Price'].resample('W').mean())"
   ]
  },
  {
   "cell_type": "markdown",
   "id": "bf58d197-aed2-4830-82d4-ea1db01be79d",
   "metadata": {},
   "source": [
    "3. Find the day with the highest stock price. (5 Marks)"
   ]
  },
  {
   "cell_type": "code",
   "execution_count": 24,
   "id": "1164077f-0410-4036-8a19-8336ce482be9",
   "metadata": {},
   "outputs": [
    {
     "name": "stdout",
     "output_type": "stream",
     "text": [
      "2024-01-05 00:00:00\n"
     ]
    }
   ],
   "source": [
    "print(stock_prices['Price'].idxmax())"
   ]
  },
  {
   "cell_type": "markdown",
   "id": "9a558fad-cc57-45be-9c09-100c9abd5247",
   "metadata": {},
   "source": [
    "# 4. Pivot Tables and Cross-Tabulations (20 Marks)"
   ]
  },
  {
   "cell_type": "markdown",
   "id": "b0d7997f-7c6e-4a06-bcb3-3748bc8a002d",
   "metadata": {},
   "source": [
    "1. Create a pivot table to find the total sales by Region and Year. (10 Marks)"
   ]
  },
  {
   "cell_type": "code",
   "execution_count": 27,
   "id": "12d54f10-b5cb-415b-a3a4-c77e8282edec",
   "metadata": {},
   "outputs": [
    {
     "name": "stdout",
     "output_type": "stream",
     "text": [
      "Region  North  South\n",
      "Year                \n",
      "2023      650    150\n",
      "2024      600    650\n"
     ]
    }
   ],
   "source": [
    "region_year = df.pivot_table(\n",
    "    values = 'Sales' ,\n",
    "    index = 'Year' ,\n",
    "    columns = 'Region',\n",
    "    aggfunc = 'sum'\n",
    ")\n",
    "\n",
    "print(region_year)"
   ]
  },
  {
   "cell_type": "markdown",
   "id": "7c4a021b-2c04-4ddd-a204-561d0812a498",
   "metadata": {},
   "source": [
    "2. Create a cross-tabulation showing the count of employees working in each Region for each Year. (10 Marks)"
   ]
  },
  {
   "cell_type": "code",
   "execution_count": 29,
   "id": "4deb4c1f-dea2-4dc2-a08b-3fe9a3b58e16",
   "metadata": {},
   "outputs": [
    {
     "name": "stdout",
     "output_type": "stream",
     "text": [
      "Year    2023  2024\n",
      "Region            \n",
      "North      3     2\n",
      "South      1     2\n"
     ]
    }
   ],
   "source": [
    "year_region = pd.crosstab(df['Region'] , df['Year'] , values = df['Employee'] , aggfunc = 'count')\n",
    "print(year_region)"
   ]
  },
  {
   "cell_type": "markdown",
   "id": "1fc9aa00-5231-4b60-9f5c-ce17e821f1ac",
   "metadata": {},
   "source": [
    "# 5. Exporting Data (10 Marks)"
   ]
  },
  {
   "cell_type": "markdown",
   "id": "2f4d8467-030e-446a-a1be-7cd294139f80",
   "metadata": {},
   "source": [
    "1. Save the final merged dataset (from Task 2) to a CSV file named employee_sales.csv. (5 Marks)"
   ]
  },
  {
   "cell_type": "code",
   "execution_count": 35,
   "id": "b714793f-36f4-488c-9372-f7cdf32f98d7",
   "metadata": {},
   "outputs": [],
   "source": [
    "difference.to_csv(\"employee_sales.csv\")"
   ]
  },
  {
   "cell_type": "markdown",
   "id": "defa3d8a-11a2-4dad-be8d-c651cddf0b83",
   "metadata": {},
   "source": [
    "2. Save the pivot table (from Task 4) to an Excel file named sales_summary.xlsx. (5 Marks)"
   ]
  },
  {
   "cell_type": "code",
   "execution_count": 37,
   "id": "5779c352-cb72-41ff-9193-8833b2dc2236",
   "metadata": {},
   "outputs": [],
   "source": [
    "region_year.to_excel(\"sales_summary.xlsx\")"
   ]
  }
 ],
 "metadata": {
  "kernelspec": {
   "display_name": "Python 3 (ipykernel)",
   "language": "python",
   "name": "python3"
  },
  "language_info": {
   "codemirror_mode": {
    "name": "ipython",
    "version": 3
   },
   "file_extension": ".py",
   "mimetype": "text/x-python",
   "name": "python",
   "nbconvert_exporter": "python",
   "pygments_lexer": "ipython3",
   "version": "3.12.7"
  }
 },
 "nbformat": 4,
 "nbformat_minor": 5
}
